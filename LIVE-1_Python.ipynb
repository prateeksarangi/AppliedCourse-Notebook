{
 "cells": [
  {
   "cell_type": "markdown",
   "metadata": {},
   "source": [
    "## Objective: Learning to solve basic Python problems\n",
    "\n",
    "Prerequisites: Module 1 listed @ https://www.appliedaicourse.com/course/11/Applied-Machine-learning-course - SQL\n",
    "\n",
    "Tackle few simple problems relvant to AI/ML\n",
    "    - Break a problem into smaller sub-problems.\n",
    "    - Connecting the dots from sub-problems to coding-concepts.\n",
    "    - Code-walkthrough + Putting it all together.\n",
    "    - More focus on common errors and mistakes + reading function reference + fixing bugs\n",
    "    - Exercise-problems for practice.\n",
    "    - Introduce new concepts as we need.\n",
    "    - Good programmers may not benifit much from this session.\n",
    "    "
   ]
  },
  {
   "cell_type": "markdown",
   "metadata": {},
   "source": [
    "### Problem 1: Add two randomly generated NumPy matrices using loops \n",
    "    - Sub-problems\n",
    "    - Subproblems ---> coding concepts\n",
    "    - Code-walkthrough + Mistakes\n",
    "    - Exercise: Add two randomly generated NumPy 3D-matrices(tensor) using loops "
   ]
  },
  {
   "cell_type": "code",
   "execution_count": 1,
   "metadata": {},
   "outputs": [
    {
     "name": "stdout",
     "output_type": "stream",
     "text": [
      "[[0.96456332 0.12211174 0.99017456 0.7894821 ]\n",
      " [0.36457976 0.48624075 0.68889511 0.17541113]\n",
      " [0.99835823 0.94831367 0.573953   0.0906775 ]\n",
      " [0.81307936 0.66072197 0.77578594 0.94216739]\n",
      " [0.02878636 0.28985786 0.6521746  0.55447172]]\n",
      "(5, 4)\n"
     ]
    }
   ],
   "source": [
    "# create random matrix A1 of size 5X4.\n",
    "### Google \" numpy create random matrices \" & Read through the top 4-5 links\n",
    "### https://www.codespeedy.com/how-to-create-matrix-of-random-numbers-in-python-numpy/\n",
    "\n",
    "import numpy as np\n",
    "A1 = np.random.rand(5,4) # read documentation to understand the params. Google \"np.random.rand reference\" ---> https://docs.scipy.org/doc/numpy-1.15.1/reference/generated/numpy.random.rand.html\n",
    "\n",
    "##COMMON-ERROR: np.random.rand(4,5)\n",
    "##COMMON_ERROR: \n",
    "\n",
    "print(A1) # always print to ensure that everyhitng works fine.\n",
    "\n",
    "print(A1.shape)\n"
   ]
  },
  {
   "cell_type": "code",
   "execution_count": 2,
   "metadata": {},
   "outputs": [
    {
     "name": "stdout",
     "output_type": "stream",
     "text": [
      "(5, 4)\n"
     ]
    }
   ],
   "source": [
    "print(A1.shape); #COMMON-ERROR"
   ]
  },
  {
   "cell_type": "code",
   "execution_count": 3,
   "metadata": {},
   "outputs": [
    {
     "name": "stdout",
     "output_type": "stream",
     "text": [
      "<class 'numpy.ndarray'>\n"
     ]
    }
   ],
   "source": [
    "print(type(A1)); # COMMON-ERROR"
   ]
  },
  {
   "cell_type": "code",
   "execution_count": 4,
   "metadata": {},
   "outputs": [
    {
     "name": "stdout",
     "output_type": "stream",
     "text": [
      "<class 'numpy.ndarray'>\n"
     ]
    }
   ],
   "source": [
    "print(type(A1));"
   ]
  },
  {
   "cell_type": "code",
   "execution_count": 5,
   "metadata": {},
   "outputs": [],
   "source": [
    "# Read through the attributes and methods in numpy.ndarray class\n",
    "## Google \"numpy.ndarray\" ---> https://docs.scipy.org/doc/numpy/reference/generated/numpy.ndarray.html\n",
    "\n",
    "## Pre-Google programmers: Read reference docs."
   ]
  },
  {
   "cell_type": "code",
   "execution_count": 6,
   "metadata": {},
   "outputs": [
    {
     "name": "stdout",
     "output_type": "stream",
     "text": [
      "[[0.13298903 0.17000869 0.77849825 0.74855954]\n",
      " [0.54338112 0.96677514 0.01783392 0.73385855]\n",
      " [0.84350398 0.54590458 0.01208175 0.69947361]\n",
      " [0.70438668 0.60557631 0.16071015 0.45344739]\n",
      " [0.00638158 0.10923074 0.24971954 0.34172388]]\n"
     ]
    }
   ],
   "source": [
    "# Create random Matrix A2\n",
    "A2 = np.random.rand(5,4);\n",
    "\n",
    "print(A2);"
   ]
  },
  {
   "cell_type": "code",
   "execution_count": 7,
   "metadata": {},
   "outputs": [
    {
     "name": "stdout",
     "output_type": "stream",
     "text": [
      "0.09067750029851862\n"
     ]
    }
   ],
   "source": [
    "# Add element wise using loops A1+A2 = B\n",
    "\n",
    "## Google \"Accessing i,j th element in an ndarray\" ---> https://docs.scipy.org/doc/numpy/reference/arrays.ndarray.html\n",
    "print(A1[2,3]);\n"
   ]
  },
  {
   "cell_type": "code",
   "execution_count": 8,
   "metadata": {},
   "outputs": [
    {
     "name": "stdout",
     "output_type": "stream",
     "text": [
      "0.09067750029851862\n"
     ]
    }
   ],
   "source": [
    "print(A1[2,3]); #COMMON_ERROR"
   ]
  },
  {
   "cell_type": "code",
   "execution_count": 9,
   "metadata": {},
   "outputs": [
    {
     "name": "stdout",
     "output_type": "stream",
     "text": [
      "[[1.09755235 0.29212043 1.7686728  1.53804164]\n",
      " [0.90796088 1.45301589 0.70672903 0.90926968]\n",
      " [1.84186222 1.49421824 0.58603475 0.79015111]\n",
      " [1.51746604 1.26629828 0.93649609 1.39561478]\n",
      " [0.03516795 0.3990886  0.90189414 0.8961956 ]]\n"
     ]
    }
   ],
   "source": [
    "B= A1+A2; # using + operator on ndarrays\n",
    "print(B); "
   ]
  },
  {
   "cell_type": "code",
   "execution_count": 10,
   "metadata": {},
   "outputs": [
    {
     "name": "stdout",
     "output_type": "stream",
     "text": [
      "5 4\n"
     ]
    }
   ],
   "source": [
    "(r,c) = A1.shape;\n",
    "print(r,c)"
   ]
  },
  {
   "cell_type": "code",
   "execution_count": 11,
   "metadata": {},
   "outputs": [
    {
     "name": "stdout",
     "output_type": "stream",
     "text": [
      "[[1.09755235 0.29212043 1.7686728  1.53804164]\n",
      " [0.90796088 1.45301589 0.70672903 0.90926968]\n",
      " [1.84186222 1.49421824 0.58603475 0.79015111]\n",
      " [1.51746604 1.26629828 0.93649609 1.39561478]\n",
      " [0.03516795 0.3990886  0.90189414 0.8961956 ]]\n"
     ]
    }
   ],
   "source": [
    "#B[i,j] = A1[i,j] + A2 [i,j] \n",
    "\n",
    "for i in range(r):\n",
    "    for j in range(c):\n",
    "        B[i,j] = A1[i,j] + A2[i,j];\n",
    "        \n",
    "print(B)"
   ]
  },
  {
   "cell_type": "code",
   "execution_count": 12,
   "metadata": {},
   "outputs": [],
   "source": [
    "# OPTIMIZATION: Pre-allocate matrix B\n",
    "B = np.zeros((5,4)); # COMMON-ERROR"
   ]
  },
  {
   "cell_type": "code",
   "execution_count": 13,
   "metadata": {},
   "outputs": [
    {
     "name": "stdout",
     "output_type": "stream",
     "text": [
      "[[1.09755235 0.29212043 1.7686728  1.53804164]\n",
      " [0.90796088 1.45301589 0.70672903 0.90926968]\n",
      " [1.84186222 1.49421824 0.58603475 0.79015111]\n",
      " [1.51746604 1.26629828 0.93649609 1.39561478]\n",
      " [0.03516795 0.3990886  0.90189414 0.8961956 ]]\n"
     ]
    }
   ],
   "source": [
    "#Google \"np.zeros\" ---> https://docs.scipy.org/doc/numpy/reference/generated/numpy.zeros.html\n",
    "B = np.zeros((5,4))\n",
    "\n",
    "for i in range(r): # same code as earlier\n",
    "    for j in range(c):\n",
    "        B[i,j] = A1[i,j] + A2[i,j];\n",
    "        \n",
    "print(B)"
   ]
  },
  {
   "cell_type": "code",
   "execution_count": 14,
   "metadata": {},
   "outputs": [],
   "source": [
    "# Time Complexity: ?\n",
    "# Space Complxiety: ?"
   ]
  },
  {
   "cell_type": "markdown",
   "metadata": {},
   "source": [
    "#### Exercise: Add two randomly generated NumPy 3D-matrices(tensor) using loops \n",
    "\n",
    "HINT: B[i,j,k] = A1[i,j,k] + A2[i,j,k]\n",
    "****************************************************************************************************************\n",
    "****************************************************************************************************************\n",
    "****************************************************************************************************************"
   ]
  },
  {
   "cell_type": "markdown",
   "metadata": {},
   "source": [
    "### Problem 2: Find if a given 2D-point is inside (or) outside a circle \n",
    "    - Subproblems.\n",
    "    - Subproblems --> coding concepts.\n",
    "    - putting it all together.\n",
    "    - Exercise: Find if a given 2D point is inside (or) outside a rectangle ? \n",
    "   "
   ]
  },
  {
   "cell_type": "code",
   "execution_count": 15,
   "metadata": {},
   "outputs": [
    {
     "name": "stdout",
     "output_type": "stream",
     "text": [
      "Enter Cx, Cy, r:\n",
      "12 5 18\n",
      "12 5 18\n"
     ]
    }
   ],
   "source": [
    "## input circle (C) and point(P)\n",
    "\n",
    "# input circle params\n",
    "# Google \" input multiple values python 3\" ---> https://www.geeksforgeeks.org/input-multiple-values-user-one-line-python/\n",
    "print(\"Enter Cx, Cy, r:\");\n",
    "(Cx, Cy, r) = input().split();\n",
    "\n",
    "print(Cx, Cy, r); # always cross check using print statements"
   ]
  },
  {
   "cell_type": "code",
   "execution_count": 16,
   "metadata": {},
   "outputs": [
    {
     "name": "stdout",
     "output_type": "stream",
     "text": [
      "Enter Cx, Cy, r:12 5 18\n"
     ]
    }
   ],
   "source": [
    "# input circle params\n",
    "## Google \"python input multiple values in single line\" ----> https://www.tutorialspoint.com/how-to-input-multiple-values-from-user-in-one-line-in-python\n",
    "## TRY MULTIPLE APPROACHES and learn from each attempt.\n",
    "\n",
    "Cx, Cy, r = input(\"Enter Cx, Cy, r:\").split();\n",
    "\n"
   ]
  },
  {
   "cell_type": "code",
   "execution_count": 17,
   "metadata": {},
   "outputs": [
    {
     "name": "stdout",
     "output_type": "stream",
     "text": [
      "Enter Cx, Cy, r:12 5 18\n"
     ]
    }
   ],
   "source": [
    "# Google \" SyntaxError: invalid syntax input Python3 string\" --> https://stackoverflow.com/questions/25174925/syntax-error-for-input\n",
    "Cx, Cy, r = input(\"Enter Cx, Cy, r:\").split();\n"
   ]
  },
  {
   "cell_type": "code",
   "execution_count": 18,
   "metadata": {},
   "outputs": [
    {
     "name": "stdout",
     "output_type": "stream",
     "text": [
      "12 5 18\n"
     ]
    }
   ],
   "source": [
    "print(Cx, Cy,r)"
   ]
  },
  {
   "cell_type": "code",
   "execution_count": 19,
   "metadata": {},
   "outputs": [
    {
     "name": "stdout",
     "output_type": "stream",
     "text": [
      "Enter Px, Py:5 4\n",
      "5 4\n"
     ]
    }
   ],
   "source": [
    "# Input Px, Py\n",
    "\n",
    "Px, Py = input(\"Enter Px, Py:\").split()\n",
    "print(Px, Py);"
   ]
  },
  {
   "cell_type": "code",
   "execution_count": 20,
   "metadata": {},
   "outputs": [
    {
     "name": "stdout",
     "output_type": "stream",
     "text": [
      "7.0710678118654755\n",
      "P in C\n"
     ]
    }
   ],
   "source": [
    "# Check if P lies in C.\n",
    "\n",
    "## String to Float. Very important to note that split() returns Strings\n",
    "Cx = float(Cx);\n",
    "Cy = float(Cy);\n",
    "r =float(r);\n",
    "Px= float(Px);\n",
    "Py = float(Py);\n",
    "\n",
    "import math \n",
    "\n",
    "d = math.sqrt( (Cx-Px)**2 + (Cy-Py)**2 )\n",
    "print(d);\n",
    "\n",
    "if d<r:\n",
    "    print(\"P in C\")\n",
    "else:\n",
    "    print(\"P NOT in C\")"
   ]
  },
  {
   "cell_type": "markdown",
   "metadata": {},
   "source": [
    "#### Exercise: Find if a point is inside or outside a rectangle.\n",
    "\n",
    "HINT: How do you represent a rectangle?\n",
    "\n",
    "********************************************\n",
    "********************************************\n",
    "********************************************"
   ]
  },
  {
   "cell_type": "markdown",
   "metadata": {},
   "source": [
    "### Problem 3: NumPy ndarray manupualtion operations\n"
   ]
  },
  {
   "cell_type": "code",
   "execution_count": 21,
   "metadata": {},
   "outputs": [
    {
     "name": "stdout",
     "output_type": "stream",
     "text": [
      "[[0.42672226 0.87948611 0.51011749 0.50005732]\n",
      " [0.76686089 0.22914142 0.72424851 0.11380093]\n",
      " [0.17529024 0.83541603 0.97696418 0.95371396]\n",
      " [0.59680966 0.86957435 0.60756443 0.62522891]\n",
      " [0.80880744 0.95870056 0.66768033 0.45832695]]\n"
     ]
    }
   ],
   "source": [
    "# 1. Reshape matrices: Very COMMON-ERRORS in Assignments\n",
    "A = np.random.rand(5,4);\n",
    "print(A);\n"
   ]
  },
  {
   "cell_type": "code",
   "execution_count": 22,
   "metadata": {},
   "outputs": [
    {
     "name": "stdout",
     "output_type": "stream",
     "text": [
      "[0.42672226 0.87948611 0.51011749 0.50005732 0.76686089 0.22914142\n",
      " 0.72424851 0.11380093 0.17529024 0.83541603 0.97696418 0.95371396\n",
      " 0.59680966 0.86957435 0.60756443 0.62522891 0.80880744 0.95870056\n",
      " 0.66768033 0.45832695]\n"
     ]
    }
   ],
   "source": [
    "## reshape into a vector row-major-order\n",
    "###https://docs.scipy.org/doc/numpy/reference/generated/numpy.reshape.html \n",
    "### Patiently read the documentation and try alternaive params\n",
    "print( np.reshape(A, 20, 'C'))\n"
   ]
  },
  {
   "cell_type": "code",
   "execution_count": 23,
   "metadata": {},
   "outputs": [
    {
     "name": "stdout",
     "output_type": "stream",
     "text": [
      "[0.42672226 0.76686089 0.17529024 0.59680966 0.80880744 0.87948611\n",
      " 0.22914142 0.83541603 0.86957435 0.95870056 0.51011749 0.72424851\n",
      " 0.97696418 0.60756443 0.66768033 0.50005732 0.11380093 0.95371396\n",
      " 0.62522891 0.45832695]\n"
     ]
    }
   ],
   "source": [
    "print( np.reshape(A, 20, 'F'))"
   ]
  },
  {
   "cell_type": "code",
   "execution_count": 24,
   "metadata": {},
   "outputs": [
    {
     "name": "stdout",
     "output_type": "stream",
     "text": [
      "[[0.42672226 0.87948611 0.51011749 0.50005732 0.76686089]\n",
      " [0.22914142 0.72424851 0.11380093 0.17529024 0.83541603]\n",
      " [0.97696418 0.95371396 0.59680966 0.86957435 0.60756443]\n",
      " [0.62522891 0.80880744 0.95870056 0.66768033 0.45832695]]\n"
     ]
    }
   ],
   "source": [
    "print( np.reshape(A, (4,5), 'C'))"
   ]
  },
  {
   "cell_type": "code",
   "execution_count": 25,
   "metadata": {},
   "outputs": [
    {
     "name": "stdout",
     "output_type": "stream",
     "text": [
      "[[0.42672226 0.87948611 0.51011749 0.50005732 0.76686089]\n",
      " [0.22914142 0.72424851 0.11380093 0.17529024 0.83541603]\n",
      " [0.97696418 0.95371396 0.59680966 0.86957435 0.60756443]\n",
      " [0.62522891 0.80880744 0.95870056 0.66768033 0.45832695]]\n"
     ]
    }
   ],
   "source": [
    "print( np.reshape(A, (4,-1), 'C'))"
   ]
  },
  {
   "cell_type": "code",
   "execution_count": 26,
   "metadata": {},
   "outputs": [
    {
     "name": "stdout",
     "output_type": "stream",
     "text": [
      "[[0.42672226 0.87948611 0.51011749 0.50005732 0.76686089]\n",
      " [0.22914142 0.72424851 0.11380093 0.17529024 0.83541603]\n",
      " [0.97696418 0.95371396 0.59680966 0.86957435 0.60756443]\n",
      " [0.62522891 0.80880744 0.95870056 0.66768033 0.45832695]]\n"
     ]
    }
   ],
   "source": [
    "print( np.reshape(A, (-1,5), 'C'))"
   ]
  },
  {
   "cell_type": "markdown",
   "metadata": {},
   "source": [
    "#### Exercise: take a tensor of size 4X5X6 and convert it into a tensor of vector and matrix (10X12)."
   ]
  },
  {
   "cell_type": "code",
   "execution_count": 27,
   "metadata": {},
   "outputs": [
    {
     "name": "stdout",
     "output_type": "stream",
     "text": [
      "[[0.65668848 0.3993223  0.32139499 0.39799368]\n",
      " [0.21224704 0.43531026 0.80523461 0.20091783]\n",
      " [0.24575764 0.02226443 0.57109022 0.88773109]\n",
      " [0.43340346 0.55936818 0.51973195 0.03283444]\n",
      " [0.18458977 0.01298982 0.17833816 0.11818833]]\n",
      "[[0.68845583 0.99079558]\n",
      " [0.02434171 0.10890952]\n",
      " [0.76760483 0.17835643]\n",
      " [0.34807383 0.98613066]\n",
      " [0.49149536 0.77290165]]\n"
     ]
    }
   ],
   "source": [
    "#2. Stacking\n",
    "A = np.random.rand(5,4);\n",
    "print(A);\n",
    "\n",
    "B= np.random.rand(5,2);\n",
    "print(B)\n"
   ]
  },
  {
   "cell_type": "code",
   "execution_count": 28,
   "metadata": {},
   "outputs": [
    {
     "name": "stdout",
     "output_type": "stream",
     "text": [
      "[[0.65668848 0.3993223  0.32139499 0.39799368 0.68845583 0.99079558]\n",
      " [0.21224704 0.43531026 0.80523461 0.20091783 0.02434171 0.10890952]\n",
      " [0.24575764 0.02226443 0.57109022 0.88773109 0.76760483 0.17835643]\n",
      " [0.43340346 0.55936818 0.51973195 0.03283444 0.34807383 0.98613066]\n",
      " [0.18458977 0.01298982 0.17833816 0.11818833 0.49149536 0.77290165]]\n"
     ]
    }
   ],
   "source": [
    "C = np.hstack((A, B)); # read documentation carefully\n",
    "print(C)"
   ]
  },
  {
   "cell_type": "code",
   "execution_count": 29,
   "metadata": {},
   "outputs": [
    {
     "name": "stdout",
     "output_type": "stream",
     "text": [
      "[[0.17826053 0.43250768 0.19476911 0.57691055]\n",
      " [0.57043687 0.42962317 0.03688855 0.94468286]\n",
      " [0.01616704 0.82765372 0.4659424  0.9558912 ]\n",
      " [0.88059892 0.42078486 0.63401026 0.84743651]\n",
      " [0.14065368 0.15707019 0.97097325 0.68067365]]\n",
      "[[0.0477486  0.25736404 0.94610903 0.49482497]\n",
      " [0.79280602 0.86832371 0.44532749 0.89396663]\n",
      " [0.42744579 0.96342129 0.92094473 0.61435282]\n",
      " [0.88199374 0.68239669 0.49899168 0.69362155]]\n",
      "[[0.17826053 0.43250768 0.19476911 0.57691055]\n",
      " [0.57043687 0.42962317 0.03688855 0.94468286]\n",
      " [0.01616704 0.82765372 0.4659424  0.9558912 ]\n",
      " [0.88059892 0.42078486 0.63401026 0.84743651]\n",
      " [0.14065368 0.15707019 0.97097325 0.68067365]\n",
      " [0.0477486  0.25736404 0.94610903 0.49482497]\n",
      " [0.79280602 0.86832371 0.44532749 0.89396663]\n",
      " [0.42744579 0.96342129 0.92094473 0.61435282]\n",
      " [0.88199374 0.68239669 0.49899168 0.69362155]]\n"
     ]
    }
   ],
   "source": [
    "A = np.random.rand(5,4);\n",
    "print(A);\n",
    "\n",
    "B= np.random.rand(4,4);\n",
    "print(B)\n",
    "\n",
    "C = np.vstack((A, B));\n",
    "print(C)"
   ]
  },
  {
   "cell_type": "code",
   "execution_count": 30,
   "metadata": {},
   "outputs": [
    {
     "name": "stdout",
     "output_type": "stream",
     "text": [
      "[[0.01052414 0.24164463 0.41584368 0.34234349]\n",
      " [0.73880617 0.82498408 0.94954955 0.38375514]\n",
      " [0.51425303 0.07892721 0.0120028  0.6120063 ]\n",
      " [0.51203604 0.21915694 0.91375968 0.50737459]\n",
      " [0.96335424 0.10711068 0.32572032 0.96913997]]\n",
      "[[0.99345971 0.26559329 0.42407095 0.60916786]\n",
      " [0.5975687  0.67292475 0.42118595 0.65490794]\n",
      " [0.15403085 0.75798782 0.02591257 0.97454259]\n",
      " [0.09204006 0.33324741 0.13803776 0.39232031]]\n",
      "[[0.01052414 0.24164463 0.41584368 0.34234349]\n",
      " [0.73880617 0.82498408 0.94954955 0.38375514]\n",
      " [0.51425303 0.07892721 0.0120028  0.6120063 ]\n",
      " [0.51203604 0.21915694 0.91375968 0.50737459]\n",
      " [0.96335424 0.10711068 0.32572032 0.96913997]\n",
      " [0.99345971 0.26559329 0.42407095 0.60916786]\n",
      " [0.5975687  0.67292475 0.42118595 0.65490794]\n",
      " [0.15403085 0.75798782 0.02591257 0.97454259]\n",
      " [0.09204006 0.33324741 0.13803776 0.39232031]]\n"
     ]
    }
   ],
   "source": [
    "A = np.random.rand(5,4);\n",
    "print(A);\n",
    "\n",
    "B= np.random.rand(4,4);\n",
    "print(B)\n",
    "\n",
    "C = np.vstack((A, B)); #Vertical stacking\n",
    "print(C)"
   ]
  },
  {
   "cell_type": "code",
   "execution_count": 31,
   "metadata": {},
   "outputs": [
    {
     "name": "stdout",
     "output_type": "stream",
     "text": [
      "(5, 4, 3)\n",
      "(5, 3, 3)\n",
      "(5, 7, 3)\n"
     ]
    }
   ],
   "source": [
    "# 3D tensors\n",
    "A = np.random.rand(5,4,3); # (height, width, colors) in images is a good way to think of this\n",
    "print(A.shape);\n",
    "\n",
    "B= np.random.rand(5,3,3);\n",
    "print(B.shape)\n",
    "\n",
    "C = np.hstack((A, B));\n",
    "print(C.shape)"
   ]
  },
  {
   "cell_type": "code",
   "execution_count": 32,
   "metadata": {},
   "outputs": [
    {
     "name": "stdout",
     "output_type": "stream",
     "text": [
      "(5, 4, 3)\n",
      "(2, 4, 3)\n",
      "(7, 4, 3)\n"
     ]
    }
   ],
   "source": [
    "# 3D tensors vstack\n",
    "A = np.random.rand(5,4,3); # (height, width, colors) in images\n",
    "print(A.shape);\n",
    "\n",
    "B= np.random.rand(2,4,3);\n",
    "print(B.shape)\n",
    "\n",
    "C = np.vstack((A, B));\n",
    "print(C.shape)"
   ]
  },
  {
   "cell_type": "markdown",
   "metadata": {},
   "source": [
    "#### Exercise: Achieve the above tranaomfrs using numpy.concatenate [https://numpy.org/doc/1.18/reference/generated/numpy.concatenate.html#numpy.concatenate]\n",
    "***********\n",
    "***********\n",
    "***********\n",
    "***********\n"
   ]
  },
  {
   "cell_type": "markdown",
   "metadata": {},
   "source": [
    "### Problem-4: Find peaks/max in an list\n",
    "- problem definition\n"
   ]
  },
  {
   "cell_type": "code",
   "execution_count": 33,
   "metadata": {},
   "outputs": [
    {
     "name": "stdout",
     "output_type": "stream",
     "text": [
      "[1, 3, 4, 5, 7, 6, 4, 5, 10, 1]\n"
     ]
    }
   ],
   "source": [
    "\n",
    "A = [1,3,4,5,7,6,4,5,10,1];\n",
    "print(A)"
   ]
  },
  {
   "cell_type": "code",
   "execution_count": 34,
   "metadata": {},
   "outputs": [
    {
     "name": "stdout",
     "output_type": "stream",
     "text": [
      "7\n",
      "10\n"
     ]
    }
   ],
   "source": [
    "# Peaks: 7,10\n",
    "# Peak: A[i-1] <= A[i] >= A[i+1]\n",
    "\n",
    "for i in range(1, len(A) - 1): # 1 and -1 are important\n",
    "    if (A[i] >= A[i-1]) and (A[i] >= A[i+1]):\n",
    "        print(A[i]);"
   ]
  },
  {
   "cell_type": "code",
   "execution_count": 35,
   "metadata": {},
   "outputs": [
    {
     "name": "stdout",
     "output_type": "stream",
     "text": [
      "10\n"
     ]
    }
   ],
   "source": [
    "print(len(A));"
   ]
  },
  {
   "cell_type": "code",
   "execution_count": 36,
   "metadata": {},
   "outputs": [
    {
     "name": "stdout",
     "output_type": "stream",
     "text": [
      "7\n",
      "10\n"
     ]
    }
   ],
   "source": [
    "for i in range(1, len(A) - 1): # 1 and -1 are important\n",
    "    if (A[i] >= A[i-1]) and (A[i] >= A[i+1]):\n",
    "        print(A[i]);"
   ]
  },
  {
   "cell_type": "code",
   "execution_count": 37,
   "metadata": {},
   "outputs": [],
   "source": [
    "# There is a bug in the above solution. Find it...\n"
   ]
  },
  {
   "cell_type": "code",
   "execution_count": 38,
   "metadata": {},
   "outputs": [
    {
     "name": "stdout",
     "output_type": "stream",
     "text": [
      "7\n"
     ]
    }
   ],
   "source": [
    "A = [11,3,4,5,7,6,4,5,10,15];\n",
    "\n",
    "for i in range(1, len(A) - 1): # 1 and -1 are important\n",
    "    if (A[i] >= A[i-1]) and (A[i] >= A[i+1]):\n",
    "        print(A[i]);"
   ]
  },
  {
   "cell_type": "code",
   "execution_count": 39,
   "metadata": {},
   "outputs": [
    {
     "name": "stdout",
     "output_type": "stream",
     "text": [
      "11\n",
      "7\n",
      "15\n"
     ]
    }
   ],
   "source": [
    "# what about 11 and 15?\n",
    "\n",
    "# boundary case\n",
    "if A[0] >= A[1]:\n",
    "    print(A[0])\n",
    "    \n",
    "for i in range(1, len(A) - 1): # 1 and -1 are important\n",
    "    if (A[i] >= A[i-1]) and (A[i] >= A[i+1]):\n",
    "        print(A[i]);\n",
    "\n",
    "# boundary case\n",
    "if A[len(A)-1] >= A[len(A)-2]:\n",
    "    print(A[len(A)-1])\n"
   ]
  },
  {
   "cell_type": "code",
   "execution_count": 40,
   "metadata": {},
   "outputs": [],
   "source": [
    "# LESSON: Donot forget boundary cases\n",
    "\n",
    "#Question: Time Complexity = ?"
   ]
  },
  {
   "cell_type": "markdown",
   "metadata": {},
   "source": [
    "#### Exercise: \n",
    "1. Find peaks which are max values in a window of size 2 on both sides.\n",
    "2. Use scipy.signal.find_peaks [https://docs.scipy.org/doc/scipy/reference/generated/scipy.signal.find_peaks.html]\n",
    "\n",
    "Additioanl reading: More efficient algos @ http://courses.csail.mit.edu/6.006/spring11/lectures/lec02.pdf"
   ]
  },
  {
   "cell_type": "markdown",
   "metadata": {},
   "source": [
    "### Problem 5: Permutations of a list\n",
    "- Problem definition: lst = [1,2,3]"
   ]
  },
  {
   "cell_type": "code",
   "execution_count": 41,
   "metadata": {},
   "outputs": [
    {
     "name": "stdout",
     "output_type": "stream",
     "text": [
      "(1, 2, 3)\n",
      "(1, 3, 2)\n",
      "(2, 1, 3)\n",
      "(2, 3, 1)\n",
      "(3, 1, 2)\n",
      "(3, 2, 1)\n"
     ]
    }
   ],
   "source": [
    "# Using libraries\n",
    "from itertools import permutations \n",
    "  \n",
    "p = permutations([1, 2, 3]) # refer: https://docs.python.org/3/library/itertools.html#itertools.permutations\n",
    "\n",
    "# what is an iterable in Python [https://www.pythonlikeyoumeanit.com/Module2_EssentialsOfPython/Iterables.html]\n",
    "\n",
    "# print the permutations\n",
    "for i in list(p): \n",
    "    print(i) "
   ]
  },
  {
   "cell_type": "code",
   "execution_count": 42,
   "metadata": {},
   "outputs": [],
   "source": [
    "# No fun!\n",
    "# Write your own code. Any suggestions?\n",
    "# Break the problem into smaller sub-problems"
   ]
  },
  {
   "cell_type": "code",
   "execution_count": 43,
   "metadata": {},
   "outputs": [
    {
     "data": {
      "text/plain": [
       "[3, 2, 1]"
      ]
     },
     "execution_count": 43,
     "metadata": {},
     "output_type": "execute_result"
    }
   ],
   "source": [
    "[1,2,3]\n",
    "[1,3,2]\n",
    "[2,1,3]\n",
    "[2,3,1]\n",
    "[3,1,2]\n",
    "[3,2,1]"
   ]
  },
  {
   "cell_type": "code",
   "execution_count": 44,
   "metadata": {},
   "outputs": [
    {
     "name": "stdout",
     "output_type": "stream",
     "text": [
      "[[1, 2, 3], [1, 3, 2], [2, 1, 3], [2, 3, 1], [3, 1, 2], [3, 2, 1]]\n"
     ]
    }
   ],
   "source": [
    "# source: https://stackoverflow.com/questions/13109274/python-recursion-permutations\n",
    "\n",
    "def permutation(s):\n",
    "   if len(s) == 1:\n",
    "     return [s]\n",
    "\n",
    "   perm_list = [] # resulting list\n",
    "   for a in s:\n",
    "     remaining_elements = [x for x in s if x != a]\n",
    "     z = permutation(remaining_elements) # permutations of sub-list\n",
    "\n",
    "     for t in z:\n",
    "       perm_list.append([a] + t)\n",
    "\n",
    "   return perm_list\n",
    "\n",
    "s = [1,2,3];\n",
    "p = permutation(s);\n",
    "print(p)"
   ]
  },
  {
   "cell_type": "markdown",
   "metadata": {},
   "source": [
    "#### Exercise: [Combinations] All possible ways to pick 3 elements out of 5 elements\n",
    "\n",
    "- HINT: Use recursion.\n",
    "- Google \"combinations in Python\""
   ]
  },
  {
   "cell_type": "markdown",
   "metadata": {},
   "source": [
    "### Practice, practice and practice..\n",
    "\n",
    "- Optional  Assignments at AAIC: https://go.aws/2JrmV4A [Functions] , https://drive.google.com/file/d/1VB3wJSt_Mq0HLP9uaqgsZBR4BLMFnkmY/view [Pandas]\n",
    "\n",
    "- Basic Python: https://www.geeksforgeeks.org/python-programming-examples/\n",
    "- NumPy: https://www.w3resource.com/python-exercises/numpy/index.php\n"
   ]
  },
  {
   "cell_type": "code",
   "execution_count": null,
   "metadata": {},
   "outputs": [],
   "source": []
  }
 ],
 "metadata": {
  "kernelspec": {
   "display_name": "Python 3",
   "language": "python",
   "name": "python3"
  },
  "language_info": {
   "codemirror_mode": {
    "name": "ipython",
    "version": 3
   },
   "file_extension": ".py",
   "mimetype": "text/x-python",
   "name": "python",
   "nbconvert_exporter": "python",
   "pygments_lexer": "ipython3",
   "version": "3.5.2"
  }
 },
 "nbformat": 4,
 "nbformat_minor": 2
}
