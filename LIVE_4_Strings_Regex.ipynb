{
 "cells": [
  {
   "cell_type": "markdown",
   "metadata": {},
   "source": [
    "## LIVE 4: Strings and Regex \n",
    " - Focus: Basics of strings and regex in Python + Simple problem solving. \n",
    " - Prereq: Basic knowledge of Strings and Regex in Python + previous code-sessions.\n",
    " - Reference for basics: \n",
    "     - https://docs.python.org/3/howto/regex.html\n",
    "     - https://docs.python.org/3/library/re.html\n",
    "     - https://www.w3schools.com/python/python_strings.asp\n",
    "     - https://www.geeksforgeeks.org/python-strings/\n",
    "     "
   ]
  },
  {
   "cell_type": "markdown",
   "metadata": {},
   "source": [
    "## Quick recap of Regex in Python\n",
    "- Go through multiple examples to understand regex better\n",
    "- Key life-skill: learn from resources on the internet.\n",
    "- https://docs.python.org/3/howto/regex.html\n",
    "- https://www.w3schools.com/python/python_regex.asp\n",
    "- https://www.tutorialspoint.com/python/python_reg_expressions.htm\n"
   ]
  },
  {
   "cell_type": "markdown",
   "metadata": {},
   "source": [
    "## Problem-1: Mask personal information in email and phone numbers"
   ]
  },
  {
   "cell_type": "markdown",
   "metadata": {},
   "source": [
    "- Email: xxxxxxxxx@aaaa.zzzz\n",
    "    - Masked:x#####x@aaaa.zzzz [FIVE # between first and last char of the name]  \n",
    "    \n",
    "    <br>\n",
    "    \n",
    "- Phone:  digits 0-9 or any of the characters from  { '-', '(', ')', ' '} \n",
    "    - Example: 1(234)567-890   --> ###-###-7890\"\n",
    "    "
   ]
  },
  {
   "cell_type": "code",
   "execution_count": 13,
   "metadata": {},
   "outputs": [
    {
     "data": {
      "text/html": [
       "<img src=\"https://cdn.programiz.com/sites/tutorial2program/files/python-format-positional-argument.jpg\"/>"
      ],
      "text/plain": [
       "<IPython.core.display.Image object>"
      ]
     },
     "execution_count": 13,
     "metadata": {},
     "output_type": "execute_result"
    }
   ],
   "source": [
    "# email-masking\n",
    "s = \"abcd@efgh.com\";\n",
    "\n",
    "#simple string formatting : https://www.programiz.com/python-programming/methods/string/format\n",
    "\n",
    "from IPython.display import Image\n",
    "Image(url= \"https://cdn.programiz.com/sites/tutorial2program/files/python-format-positional-argument.jpg\")\n",
    "\n"
   ]
  },
  {
   "cell_type": "code",
   "execution_count": 9,
   "metadata": {},
   "outputs": [
    {
     "name": "stdout",
     "output_type": "stream",
     "text": [
      "a#####d@efgh.com\n"
     ]
    }
   ],
   "source": [
    "# boundary case: check if email or not\n",
    "s = \"abcd@efgh.com\";\n",
    "\n",
    "def maskEmail(s):\n",
    "    if '@' in s: \n",
    "        name, domain = s.split('@')\n",
    "        return (\"{0}#####{1}@{2}\".format(name[0], name[-1], domain));\n",
    "\n",
    "print(maskEmail(s))"
   ]
  },
  {
   "cell_type": "code",
   "execution_count": 10,
   "metadata": {},
   "outputs": [
    {
     "name": "stdout",
     "output_type": "stream",
     "text": [
      "a#####a@bcdef.com\n"
     ]
    }
   ],
   "source": [
    "# BOUDNARY CASE: a@bcdef.com\n",
    "print(maskEmail(\"a@bcdef.com\"))"
   ]
  },
  {
   "cell_type": "code",
   "execution_count": 11,
   "metadata": {},
   "outputs": [
    {
     "name": "stdout",
     "output_type": "stream",
     "text": [
      "None\n"
     ]
    }
   ],
   "source": [
    "# BOUDNARY CASE: abcd.com\n",
    "print(maskEmail(\"abcd.com\"))"
   ]
  },
  {
   "cell_type": "code",
   "execution_count": 12,
   "metadata": {},
   "outputs": [
    {
     "name": "stdout",
     "output_type": "stream",
     "text": [
      "a#####d@cdef\n"
     ]
    }
   ],
   "source": [
    "# BOUDNARY CASE: abcd@cdef\n",
    "print(maskEmail(\"abcd@cdef\"))"
   ]
  },
  {
   "cell_type": "code",
   "execution_count": 117,
   "metadata": {},
   "outputs": [
    {
     "name": "stdout",
     "output_type": "stream",
     "text": [
      "None\n",
      "False\n"
     ]
    }
   ],
   "source": [
    "import re\n",
    "def isValidEmail(s):\n",
    "    #refer:https://www.w3schools.com/python/python_regex.asp for regex syntax\n",
    "    #https://docs.python.org/2/library/re.html\n",
    "    \n",
    "    res = re.search('^\\w+([\\.-]?\\w+)*@\\w+([\\.-]?\\w+)*(\\.\\w{2,3})+$', s, re.IGNORECASE)   #https://www.geeksforgeeks.org/check-if-email-address-valid-or-not-in-python/   \n",
    "    print(res)\n",
    "    \n",
    "    if(res):\n",
    "        return True;\n",
    "    else:\n",
    "        return False;\n",
    "\n",
    "print(isValidEmail(\"abcd@cdef\"))"
   ]
  },
  {
   "cell_type": "code",
   "execution_count": 118,
   "metadata": {},
   "outputs": [
    {
     "name": "stdout",
     "output_type": "stream",
     "text": [
      "None\n",
      "False\n"
     ]
    }
   ],
   "source": [
    "print(isValidEmail(\"abcd@cdef.c\"))"
   ]
  },
  {
   "cell_type": "code",
   "execution_count": 65,
   "metadata": {},
   "outputs": [
    {
     "name": "stdout",
     "output_type": "stream",
     "text": [
      "<re.Match object; span=(0, 10), match='a@cdef.com'>\n",
      "True\n"
     ]
    }
   ],
   "source": [
    "print(isValidEmail(\"a@cdef.com\"))"
   ]
  },
  {
   "cell_type": "code",
   "execution_count": 66,
   "metadata": {},
   "outputs": [
    {
     "name": "stdout",
     "output_type": "stream",
     "text": [
      "<re.Match object; span=(0, 15), match='abcd@iisc.ac.in'>\n",
      "True\n"
     ]
    }
   ],
   "source": [
    "print(isValidEmail(\"abcd@iisc.ac.in\"))"
   ]
  },
  {
   "cell_type": "code",
   "execution_count": 67,
   "metadata": {},
   "outputs": [
    {
     "name": "stdout",
     "output_type": "stream",
     "text": [
      "abcd@iisc.ac.in\n",
      "<re.Match object; span=(0, 15), match='abcd@iisc.ac.in'>\n"
     ]
    }
   ],
   "source": [
    "regex = '^\\w+([\\.-]?\\w+)*@\\w+([\\.-]?\\w+)*(\\.\\w{2,3})+$' # highly non-readbale code\n",
    "\n",
    "#https://docs.python.org/2/library/re.html\n",
    "regex_verbose = re.compile(r\"\"\"                  # VERY readable and easy to understand. Software maintanability.\n",
    "            ^\\w+([\\.-]?\\w+)*              # start, \\w+, \n",
    "            @                             # single @ sign \n",
    "            \\w+([\\.-]?\\w+)*               # Domain name \n",
    "            (\\.\\w{2,3})+$                 # .com, .ac.in,    \n",
    "             \"\"\",re.VERBOSE | re.IGNORECASE)          \n",
    "\n",
    "\n",
    "res = regex_verbose.match(\"abcd@iisc.ac.in\");\n",
    "\n",
    "print(res.string)\n",
    "print(res)"
   ]
  },
  {
   "cell_type": "code",
   "execution_count": 78,
   "metadata": {},
   "outputs": [
    {
     "name": "stdout",
     "output_type": "stream",
     "text": [
      "1234567890\n",
      "###-###-7890\n"
     ]
    }
   ],
   "source": [
    "# PHONE NUMBER MASKING\n",
    "#Example: 1(234)567-890 --> ###-###-7890\"\n",
    "\n",
    "\n",
    "ph = \"1(234)567-890\"\n",
    "\n",
    "\n",
    "digits = re.sub(\"\\D\", \"\", ph)  # \\D=>non-decimal, re.substitute, https://docs.python.org/3/library/re.html \n",
    "\n",
    "print(digits)\n",
    "    \n",
    "masked =  \"###-###-{}\".format(digits[-4:])\n",
    "print(masked)\n",
    "\n"
   ]
  },
  {
   "cell_type": "code",
   "execution_count": 82,
   "metadata": {},
   "outputs": [
    {
     "name": "stdout",
     "output_type": "stream",
     "text": [
      "###-###-7890\n"
     ]
    }
   ],
   "source": [
    "def maskPhoneNum(ph):\n",
    "    digits = re.sub(\"\\D\", \"\", ph)  # \\D=>non-decimal, re.substitute, https://docs.python.org/3/library/re.html \n",
    "    if len(digits) != 10: # BOUNDARY CASE\n",
    "        return None;\n",
    "    else:\n",
    "        masked =  \"###-###-{}\".format(digits[-4:])\n",
    "        return masked\n",
    "\n",
    "print(maskPhoneNum(\"1(234)567-890\"))\n"
   ]
  },
  {
   "cell_type": "markdown",
   "metadata": {},
   "source": [
    "print(maskPhoneNum(\"1(234)567-89\"))"
   ]
  },
  {
   "cell_type": "markdown",
   "metadata": {},
   "source": [
    "#### Exercise:  12 digit phone numbers with 2 digits of ISD  code strtaing with + \n",
    "- e.g: +86-(99)12345678    ---->  (+86)-###-###-5678\n",
    "************\n",
    "************\n",
    "************************\n",
    "************\n",
    "************\n",
    "************\n",
    "************\n"
   ]
  },
  {
   "cell_type": "code",
   "execution_count": 12,
   "metadata": {},
   "outputs": [
    {
     "name": "stdout",
     "output_type": "stream",
     "text": [
      "(+86)-###-###-5678\n",
      "(+91)-###-###-7890\n",
      "None\n",
      "(+91)-###-###-6491\n",
      "None\n"
     ]
    }
   ],
   "source": [
    "import re\n",
    "\n",
    "def maskPhoneNum(ph):\n",
    "    digits = re.sub(\"\\D\", \"\", ph)\n",
    "    #isd, num = re.search(\"^\\d{2}\", digits), re.search(\"\\d{10}$\", digits)\n",
    "    isd, num = digits[0:2], digits[-4:]\n",
    "\n",
    "    if len(digits) == 12 and re.match(\"^\\(?\\+\", ph):\n",
    "        #masked = \"(+{0})-###-###-{1}\".format(isd.group(0), num.group(0)[-4:])\n",
    "        masked = \"(+{0})-###-###-{1}\".format(isd, num)\n",
    "        return masked\n",
    "    \n",
    "    else:\n",
    "        return None\n",
    "    \n",
    "    \n",
    "print(maskPhoneNum(\"+86-(99)12345678\"))\n",
    "print(maskPhoneNum(\"+91 1(234)567-890\"))\n",
    "print(maskPhoneNum(\"1(234)567-890\"))\n",
    "print(maskPhoneNum(\"(+91)811-431-6491\"))\n",
    "print(maskPhoneNum(\"(91)811-431-6491\"))"
   ]
  },
  {
   "cell_type": "markdown",
   "metadata": {},
   "source": [
    "## Problem 2: Extract data from a PDF invoice"
   ]
  },
  {
   "cell_type": "markdown",
   "metadata": {},
   "source": [
    "- Given a PDF [https://slicedinvoices.com/pdf/wordpress-pdf-invoice-plugin-sample.pdf], extract predefined key fields from this PDF\n",
    "- Assume the format is fixed.\n"
   ]
  },
  {
   "cell_type": "markdown",
   "metadata": {},
   "source": [
    "#### NOTE: Download and save the above PDF as invoice.pdf in the same folder as your iPython notebook for the following code to work\n"
   ]
  },
  {
   "cell_type": "code",
   "execution_count": 3,
   "metadata": {},
   "outputs": [
    {
     "ename": "ModuleNotFoundError",
     "evalue": "No module named 'PyPDF4'",
     "output_type": "error",
     "traceback": [
      "\u001b[0;31m---------------------------------------------------------------------------\u001b[0m",
      "\u001b[0;31mModuleNotFoundError\u001b[0m                       Traceback (most recent call last)",
      "\u001b[0;32m<ipython-input-3-dd9bbc598d5f>\u001b[0m in \u001b[0;36m<module>\u001b[0;34m\u001b[0m\n\u001b[1;32m      1\u001b[0m \u001b[0;31m# Google \"pyPDF extract text\" ---> https://www.soudegesu.com/en/post/python/extract-text-from-pdf-with-pypdf2/\u001b[0m\u001b[0;34m\u001b[0m\u001b[0;34m\u001b[0m\u001b[0;34m\u001b[0m\u001b[0m\n\u001b[0;32m----> 2\u001b[0;31m \u001b[0;32mimport\u001b[0m \u001b[0mPyPDF4\u001b[0m\u001b[0;34m\u001b[0m\u001b[0;34m\u001b[0m\u001b[0m\n\u001b[0m\u001b[1;32m      3\u001b[0m \u001b[0;34m\u001b[0m\u001b[0m\n\u001b[1;32m      4\u001b[0m \u001b[0mFILE_PATH\u001b[0m \u001b[0;34m=\u001b[0m \u001b[0;34m'invoice.pdf'\u001b[0m\u001b[0;34m\u001b[0m\u001b[0;34m\u001b[0m\u001b[0m\n\u001b[1;32m      5\u001b[0m \u001b[0;34m\u001b[0m\u001b[0m\n",
      "\u001b[0;31mModuleNotFoundError\u001b[0m: No module named 'PyPDF4'"
     ]
    }
   ],
   "source": [
    "# Google \"pyPDF extract text\" ---> https://www.soudegesu.com/en/post/python/extract-text-from-pdf-with-pypdf2/\n",
    "import PyPDF4\n",
    "\n",
    "FILE_PATH = 'invoice.pdf'\n",
    "\n",
    "with open(FILE_PATH, mode='rb') as f:\n",
    "    reader = PyPDF4.PdfFileReader(f)\n",
    "    page = reader.getPage(0)\n",
    "    print(page.extractText())\n"
   ]
  },
  {
   "cell_type": "code",
   "execution_count": 88,
   "metadata": {},
   "outputs": [],
   "source": [
    "import PyPDF4\n",
    "\n",
    "FILE_PATH = './invoice.pdf'\n",
    "\n",
    "with open(FILE_PATH, mode='rb') as f:\n",
    "    reader = PyPDF4.PdfFileReader(f)\n",
    "    page = reader.getPage(0)\n",
    "    txt = page.extractText();"
   ]
  },
  {
   "cell_type": "code",
   "execution_count": 98,
   "metadata": {},
   "outputs": [
    {
     "name": "stdout",
     "output_type": "stream",
     "text": [
      "['INV-3337']\n"
     ]
    }
   ],
   "source": [
    "# extract invoice number\n",
    "\n",
    "m = re.findall(\"INV-[0-9]*\", txt)\n",
    "print(m)\n"
   ]
  },
  {
   "cell_type": "code",
   "execution_count": 100,
   "metadata": {},
   "outputs": [
    {
     "name": "stdout",
     "output_type": "stream",
     "text": [
      "[]\n"
     ]
    }
   ],
   "source": [
    "# extract amounts\n",
    "m = re.findall(\"$[0-9]*\\.[0-9]*\", txt)\n",
    "print(m)\n"
   ]
  },
  {
   "cell_type": "code",
   "execution_count": null,
   "metadata": {},
   "outputs": [],
   "source": []
  },
  {
   "cell_type": "code",
   "execution_count": 104,
   "metadata": {},
   "outputs": [
    {
     "name": "stdout",
     "output_type": "stream",
     "text": [
      "['$93.50', '$85.00', '$85.00', '$85.00', '$8.50', '$93.50']\n"
     ]
    }
   ],
   "source": [
    "\n",
    "# extract amounts\n",
    "m = re.findall(\"\\$[0-9]*\\.[0-9]*\", txt)\n",
    "print(m)\n"
   ]
  },
  {
   "cell_type": "markdown",
   "metadata": {},
   "source": [
    "*********\n",
    "*********\n",
    "*********\n",
    "*********\n",
    "*********\n",
    "******************\n",
    "*********\n",
    "*********\n",
    "******************\n",
    "*********\n"
   ]
  },
  {
   "cell_type": "code",
   "execution_count": 106,
   "metadata": {},
   "outputs": [
    {
     "name": "stdout",
     "output_type": "stream",
     "text": [
      "[]\n"
     ]
    }
   ],
   "source": [
    "# Extract Total Due:\n",
    "m = re.findall(\"Total Due\\$[0-9]*\\.[0-9]*\", txt)\n",
    "print(m)\n",
    "\n"
   ]
  },
  {
   "cell_type": "code",
   "execution_count": 107,
   "metadata": {},
   "outputs": [
    {
     "name": "stdout",
     "output_type": "stream",
     "text": [
      "['Total Due\\n$93.50']\n"
     ]
    }
   ],
   "source": [
    "m = re.findall(\"Total Due\\n\\$[0-9]*\\.[0-9]*\", txt)\n",
    "print(m)"
   ]
  },
  {
   "cell_type": "code",
   "execution_count": 109,
   "metadata": {},
   "outputs": [
    {
     "name": "stdout",
     "output_type": "stream",
     "text": [
      "['$93.50']\n"
     ]
    }
   ],
   "source": [
    "print(re.findall(\"\\$[0-9]*\\.[0-9]*\",m[0]))"
   ]
  },
  {
   "cell_type": "markdown",
   "metadata": {},
   "source": [
    "### Ques: How do we handle cases where we want to extract data from multiple invoice formats?\n",
    "\n",
    "\n",
    "#### Assignment: Extract email-addresses from the PDF\n",
    "\n",
    "#### We will continue from here tomorrow. Pelase go through regex- referecnes in detail for tomorrow's session. We will solve a few product based company interview questions."
   ]
  },
  {
   "cell_type": "code",
   "execution_count": null,
   "metadata": {},
   "outputs": [],
   "source": []
  }
 ],
 "metadata": {
  "kernelspec": {
   "display_name": "Python 3",
   "language": "python",
   "name": "python3"
  },
  "language_info": {
   "codemirror_mode": {
    "name": "ipython",
    "version": 3
   },
   "file_extension": ".py",
   "mimetype": "text/x-python",
   "name": "python",
   "nbconvert_exporter": "python",
   "pygments_lexer": "ipython3",
   "version": "3.7.4"
  }
 },
 "nbformat": 4,
 "nbformat_minor": 2
}
